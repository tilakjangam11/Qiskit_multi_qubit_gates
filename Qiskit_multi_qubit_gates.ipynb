{
  "nbformat": 4,
  "nbformat_minor": 0,
  "metadata": {
    "colab": {
      "provenance": []
    },
    "kernelspec": {
      "name": "python3",
      "display_name": "Python 3"
    },
    "language_info": {
      "name": "python"
    }
  },
  "cells": [
    {
      "cell_type": "code",
      "source": [
        "!pip install qiskit qiskit-aer --upgrade --quiet"
      ],
      "metadata": {
        "id": "Mx6284lurNt1",
        "colab": {
          "base_uri": "https://localhost:8080/"
        },
        "outputId": "10afe972-a741-4cfa-d348-c04de17887af"
      },
      "execution_count": 1,
      "outputs": [
        {
          "output_type": "stream",
          "name": "stdout",
          "text": [
            "\u001b[2K   \u001b[90m━━━━━━━━━━━━━━━━━━━━━━━━━━━━━━━━━━━━━━━━\u001b[0m \u001b[32m8.0/8.0 MB\u001b[0m \u001b[31m34.8 MB/s\u001b[0m eta \u001b[36m0:00:00\u001b[0m\n",
            "\u001b[2K   \u001b[90m━━━━━━━━━━━━━━━━━━━━━━━━━━━━━━━━━━━━━━━━\u001b[0m \u001b[32m12.4/12.4 MB\u001b[0m \u001b[31m34.7 MB/s\u001b[0m eta \u001b[36m0:00:00\u001b[0m\n",
            "\u001b[2K   \u001b[90m━━━━━━━━━━━━━━━━━━━━━━━━━━━━━━━━━━━━━━━━\u001b[0m \u001b[32m2.2/2.2 MB\u001b[0m \u001b[31m32.4 MB/s\u001b[0m eta \u001b[36m0:00:00\u001b[0m\n",
            "\u001b[2K   \u001b[90m━━━━━━━━━━━━━━━━━━━━━━━━━━━━━━━━━━━━━━━━\u001b[0m \u001b[32m49.5/49.5 kB\u001b[0m \u001b[31m3.1 MB/s\u001b[0m eta \u001b[36m0:00:00\u001b[0m\n",
            "\u001b[?25h"
          ]
        }
      ]
    },
    {
      "cell_type": "code",
      "execution_count": 2,
      "metadata": {
        "id": "VPOwLacGrCdU",
        "colab": {
          "base_uri": "https://localhost:8080/"
        },
        "outputId": "9aa67fbb-e830-4110-9582-8a6b1551aa75"
      },
      "outputs": [
        {
          "output_type": "stream",
          "name": "stdout",
          "text": [
            "\n",
            "--- Task 1: Swapping Control and Target in CNOT & CZ ---\n",
            "Measurement Counts (Control/Target Swapped): {'10 00': 520, '00 00': 504}\n",
            "        ┌───┐┌───┐       ░ ┌─┐   \n",
            "   q_0: ┤ H ├┤ X ├─■──X──░─┤M├───\n",
            "        └───┘└─┬─┘ │  │  ░ └╥┘┌─┐\n",
            "   q_1: ───────■───■──X──░──╫─┤M├\n",
            "                         ░  ║ └╥┘\n",
            "   c: 2/════════════════════╬══╬═\n",
            "                            ║  ║ \n",
            "meas: 2/════════════════════╩══╩═\n",
            "                            0  1 \n",
            "\n",
            "Explanation:\n",
            "Swapping control and target changes which qubit affects the other.\n",
            "This modifies entanglement behavior, producing different measurement outcomes.\n",
            "\n",
            "--- Task 2: Removing the SWAP Gate ---\n",
            "Measurement Counts (Without SWAP): {'00 00': 494, '11 00': 530}\n",
            "        ┌───┐         ░ ┌─┐   \n",
            "   q_0: ┤ H ├──■───■──░─┤M├───\n",
            "        └───┘┌─┴─┐ │  ░ └╥┘┌─┐\n",
            "   q_1: ─────┤ X ├─■──░──╫─┤M├\n",
            "             └───┘    ░  ║ └╥┘\n",
            "   c: 2/═════════════════╬══╬═\n",
            "                         ║  ║ \n",
            "meas: 2/═════════════════╩══╩═\n",
            "                         0  1 \n",
            "\n",
            "Explanation:\n",
            "Removing the SWAP gate keeps qubit 0 as control and qubit 1 as target.\n",
            "Without swapping, the measured bit order remains unchanged, so probabilities differ.\n",
            "\n",
            "--- Task 3: Adding Hadamard on Qubit 1 Before CNOT ---\n",
            "Measurement Counts (Extra H on Qubit 1): {'00 00': 284, '11 00': 253, '10 00': 250, '01 00': 237}\n",
            "        ┌───┐            ░ ┌─┐   \n",
            "   q_0: ┤ H ├──■───■──X──░─┤M├───\n",
            "        ├───┤┌─┴─┐ │  │  ░ └╥┘┌─┐\n",
            "   q_1: ┤ H ├┤ X ├─■──X──░──╫─┤M├\n",
            "        └───┘└───┘       ░  ║ └╥┘\n",
            "   c: 2/════════════════════╬══╬═\n",
            "                            ║  ║ \n",
            "meas: 2/════════════════════╩══╩═\n",
            "                            0  1 \n",
            "\n",
            "Explanation:\n",
            "Adding a Hadamard on qubit 1 creates superposition on both qubits before entanglement.\n",
            "This increases interference complexity, giving more balanced and varied measurement results.\n"
          ]
        }
      ],
      "source": [
        "from qiskit import QuantumCircuit, transpile\n",
        "from qiskit_aer import AerSimulator\n",
        "\n",
        "# Initialize the simulator\n",
        "sim = AerSimulator()\n",
        "\n",
        "# ==========================================================\n",
        "# 🧠 Task 1: Control/Target Variation\n",
        "# ==========================================================\n",
        "print(\"\\n--- Task 1: Swapping Control and Target in CNOT & CZ ---\")\n",
        "\n",
        "qc1 = QuantumCircuit(2, 2)\n",
        "qc1.h(0)         # Hadamard on qubit 0\n",
        "qc1.cx(1, 0)     # CNOT with control=1, target=0 (swapped)\n",
        "qc1.cz(1, 0)     # CZ with control=1, target=0 (swapped)\n",
        "qc1.swap(0, 1)   # Swap to mix states\n",
        "qc1.measure_all()\n",
        "\n",
        "compiled1 = transpile(qc1, sim)\n",
        "result1 = sim.run(compiled1, shots=1024).result()\n",
        "counts1 = result1.get_counts()\n",
        "\n",
        "print(\"Measurement Counts (Control/Target Swapped):\", counts1)\n",
        "print(qc1.draw())\n",
        "\n",
        "print(\"\\nExplanation:\")\n",
        "print(\"Swapping control and target changes which qubit affects the other.\")\n",
        "print(\"This modifies entanglement behavior, producing different measurement outcomes.\")\n",
        "\n",
        "\n",
        "# ==========================================================\n",
        "# 🧠 Task 2: Gate Removal (Remove SWAP)\n",
        "# ==========================================================\n",
        "print(\"\\n--- Task 2: Removing the SWAP Gate ---\")\n",
        "\n",
        "qc2 = QuantumCircuit(2, 2)\n",
        "qc2.h(0)\n",
        "qc2.cx(0, 1)\n",
        "qc2.cz(0, 1)\n",
        "# SWAP gate removed intentionally\n",
        "qc2.measure_all()\n",
        "\n",
        "compiled2 = transpile(qc2, sim)\n",
        "result2 = sim.run(compiled2, shots=1024).result()\n",
        "counts2 = result2.get_counts()\n",
        "\n",
        "print(\"Measurement Counts (Without SWAP):\", counts2)\n",
        "print(qc2.draw())\n",
        "\n",
        "print(\"\\nExplanation:\")\n",
        "print(\"Removing the SWAP gate keeps qubit 0 as control and qubit 1 as target.\")\n",
        "print(\"Without swapping, the measured bit order remains unchanged, so probabilities differ.\")\n",
        "\n",
        "\n",
        "# ==========================================================\n",
        "# 🧠 Task 3: Add Another Hadamard (on qubit 1 before CNOT)\n",
        "# ==========================================================\n",
        "print(\"\\n--- Task 3: Adding Hadamard on Qubit 1 Before CNOT ---\")\n",
        "\n",
        "qc3 = QuantumCircuit(2, 2)\n",
        "qc3.h(0)\n",
        "qc3.h(1)        # Additional Hadamard on qubit 1\n",
        "qc3.cx(0, 1)\n",
        "qc3.cz(0, 1)\n",
        "qc3.swap(0, 1)\n",
        "qc3.measure_all()\n",
        "\n",
        "compiled3 = transpile(qc3, sim)\n",
        "result3 = sim.run(compiled3, shots=1024).result()\n",
        "counts3 = result3.get_counts()\n",
        "\n",
        "print(\"Measurement Counts (Extra H on Qubit 1):\", counts3)\n",
        "print(qc3.draw())\n",
        "\n",
        "print(\"\\nExplanation:\")\n",
        "print(\"Adding a Hadamard on qubit 1 creates superposition on both qubits before entanglement.\")\n",
        "print(\"This increases interference complexity, giving more balanced and varied measurement results.\")"
      ]
    }
  ]
}